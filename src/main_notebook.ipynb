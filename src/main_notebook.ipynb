import json

# Define the main pipeline steps as cells for the notebook
main_notebook = {
    "cells": [
        {
            "cell_type": "markdown",
            "metadata": {},
            "source": [
                "# 🧠 Main Pipeline - Jupyter Notebook Version\n",
                "Notebook ini merupakan versi interaktif dari `main.py`, dan digunakan untuk menjalankan pipeline data mining dari load data hingga evaluasi model."
            ]
        },
        {
            "cell_type": "code",
            "execution_count": None,
            "metadata": {},
            "outputs": [],
            "source": [
                "# Tambahkan path agar bisa mengimpor modul dari folder src\n",
                "import sys\n",
                "sys.path.append('../src')"
            ]
        },
        {
            "cell_type": "code",
            "execution_count": None,
            "metadata": {},
            "outputs": [],
            "source": [
                "# Import modul dari src/\n",
                "from data_loader import load_raw_data\n",
                "from model import train_model, evaluate_model\n",
                "from utils import print_classification_report, plot_confusion_matrix"
            ]
        },
        {
            "cell_type": "code",
            "execution_count": None,
            "metadata": {},
            "outputs": [],
            "source": [
                "# 1. Load Data\n",
                "df = load_raw_data('../data/raw/sample.csv')\n",
                "df.head()"
            ]
        },
        {
            "cell_type": "code",
            "execution_count": None,
            "metadata": {},
            "outputs": [],
            "source": [
                "# 2. Preprocessing\n",
                "df = df.dropna()\n",
                "X = df.drop('target', axis=1)\n",
                "y = df['target']"
            ]
        },
        {
            "cell_type": "code",
            "execution_count": None,
            "metadata": {},
            "outputs": [],
            "source": [
                "# 3. Train Model dan Prediksi\n",
                "model, y_test, y_pred = train_model(X, y)"
            ]
        },
        {
            "cell_type": "code",
            "execution_count": None,
            "metadata": {},
            "outputs": [],
            "source": [
                "# 4. Evaluasi Hasil\n",
                "print_classification_report(y_test, y_pred)\n",
                "plot_confusion_matrix(y_test, y_pred)"
            ]
        }
    ],
    "metadata": {
        "kernelspec": {
            "display_name": "Python 3",
            "language": "python",
            "name": "python3"
        },
        "language_info": {
            "name": "python",
            "version": "3.8.0"
        }
    },
    "nbformat": 4,
    "nbformat_minor": 5
}

# Save the notebook
file_path = "/mnt/data/main_notebook.ipynb"
with open(file_path, "w", encoding="utf-8") as f:
    json.dump(main_notebook, f, indent=2)

file_path
